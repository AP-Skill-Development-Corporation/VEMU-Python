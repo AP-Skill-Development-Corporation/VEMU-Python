{
 "cells": [
  {
   "cell_type": "code",
   "execution_count": 2,
   "id": "fac75b06",
   "metadata": {},
   "outputs": [
    {
     "name": "stdout",
     "output_type": "stream",
     "text": [
      "24\n",
      "Not Weird\n"
     ]
    }
   ],
   "source": [
    "n = int(input())\n",
    "if n%2!=0:\n",
    "    print(\"Weird\")\n",
    "else:\n",
    "    if n==2 or n==4:\n",
    "        print(\"Not Weird\")\n",
    "    elif n>=6 and n<=20:\n",
    "        print(\"Weird\")\n",
    "    else:\n",
    "        print(\"Not Weird\")"
   ]
  },
  {
   "cell_type": "markdown",
   "id": "aad6571b",
   "metadata": {},
   "source": [
    "# Data Structures (Iterators,Repititors,Data types)\n",
    "    - List\n",
    "    - Tuple\n",
    "    - Set\n",
    "    - Dictionary\n",
    "    - String"
   ]
  },
  {
   "cell_type": "markdown",
   "id": "f515bc04",
   "metadata": {},
   "source": [
    " ## List:\n",
    "     - It can be represented in \"[]\"\n",
    "     - It can stores the data in order format\n",
    "     - It can changes the values\n",
    "     - Duplicates can be allowed\n",
    "     - Slicing can be done because of index values\n",
    "     - It can be typecast as \"list()\""
   ]
  },
  {
   "cell_type": "code",
   "execution_count": 3,
   "id": "5dff9a86",
   "metadata": {},
   "outputs": [
    {
     "name": "stdout",
     "output_type": "stream",
     "text": [
      "[23, 235.0, 'raju', '45'] <class 'list'>\n"
     ]
    }
   ],
   "source": [
    "p = [23,235.00,'raju','45']\n",
    "print(p,type(p))"
   ]
  },
  {
   "cell_type": "code",
   "execution_count": 5,
   "id": "96ce4c84",
   "metadata": {},
   "outputs": [
    {
     "ename": "IndexError",
     "evalue": "list index out of range",
     "output_type": "error",
     "traceback": [
      "\u001b[1;31m-------------------------------------------------------------------------\u001b[0m",
      "\u001b[1;31mIndexError\u001b[0m                              Traceback (most recent call last)",
      "\u001b[1;32m<ipython-input-5-921ccbfad116>\u001b[0m in \u001b[0;36m<module>\u001b[1;34m\u001b[0m\n\u001b[1;32m----> 1\u001b[1;33m \u001b[0mprint\u001b[0m\u001b[1;33m(\u001b[0m\u001b[0mp\u001b[0m\u001b[1;33m[\u001b[0m\u001b[1;36m7\u001b[0m\u001b[1;33m]\u001b[0m\u001b[1;33m)\u001b[0m\u001b[1;33m\u001b[0m\u001b[1;33m\u001b[0m\u001b[0m\n\u001b[0m",
      "\u001b[1;31mIndexError\u001b[0m: list index out of range"
     ]
    }
   ],
   "source": [
    "print(p[7])"
   ]
  },
  {
   "cell_type": "code",
   "execution_count": 7,
   "id": "0694c3e2",
   "metadata": {},
   "outputs": [
    {
     "name": "stdout",
     "output_type": "stream",
     "text": [
      "23 raju\n"
     ]
    }
   ],
   "source": [
    "print(p[0],p[2])"
   ]
  },
  {
   "cell_type": "code",
   "execution_count": 9,
   "id": "4b3fe43e",
   "metadata": {},
   "outputs": [
    {
     "name": "stdout",
     "output_type": "stream",
     "text": [
      "45 235.0\n"
     ]
    }
   ],
   "source": [
    "print(p[-1],p[-3])"
   ]
  },
  {
   "cell_type": "code",
   "execution_count": 10,
   "id": "0eb6ff24",
   "metadata": {},
   "outputs": [
    {
     "ename": "IndexError",
     "evalue": "list index out of range",
     "output_type": "error",
     "traceback": [
      "\u001b[1;31m-------------------------------------------------------------------------\u001b[0m",
      "\u001b[1;31mIndexError\u001b[0m                              Traceback (most recent call last)",
      "\u001b[1;32m<ipython-input-10-31291020a56e>\u001b[0m in \u001b[0;36m<module>\u001b[1;34m\u001b[0m\n\u001b[1;32m----> 1\u001b[1;33m \u001b[0mprint\u001b[0m\u001b[1;33m(\u001b[0m\u001b[0mp\u001b[0m\u001b[1;33m[\u001b[0m\u001b[1;33m-\u001b[0m\u001b[1;36m20\u001b[0m\u001b[1;33m]\u001b[0m\u001b[1;33m)\u001b[0m\u001b[1;33m\u001b[0m\u001b[1;33m\u001b[0m\u001b[0m\n\u001b[0m",
      "\u001b[1;31mIndexError\u001b[0m: list index out of range"
     ]
    }
   ],
   "source": [
    "print(p[-20])"
   ]
  },
  {
   "cell_type": "code",
   "execution_count": 23,
   "id": "cd9cef05",
   "metadata": {},
   "outputs": [
    {
     "name": "stdout",
     "output_type": "stream",
     "text": [
      "[23, 235.0, 'raju', '45']\n",
      "[23, 235.0, 'raju', '45']\n",
      "['raju', '45']\n",
      "['raju', '45']\n",
      "[23, 235.0, 'raju']\n",
      "[23, 235.0]\n"
     ]
    }
   ],
   "source": [
    "print(p)\n",
    "print(p[:])\n",
    "print(p[2:])\n",
    "print(p[-2:])\n",
    "print(p[:3])\n",
    "print(p[:-2])\n"
   ]
  },
  {
   "cell_type": "code",
   "execution_count": 28,
   "id": "5d43de12",
   "metadata": {},
   "outputs": [
    {
     "name": "stdout",
     "output_type": "stream",
     "text": [
      "[23, 235.0, 'raju', '45']\n",
      "[235.0]\n",
      "[235.0]\n",
      "['raju']\n",
      "[]\n",
      "[23, 235.0, 'raju']\n"
     ]
    }
   ],
   "source": [
    "print(p)\n",
    "print(p[1:-2])\n",
    "print(p[1:2])\n",
    "print(p[-2:-1])\n",
    "print(p[-1:0])\n",
    "print(p[0:-1])"
   ]
  },
  {
   "cell_type": "code",
   "execution_count": 33,
   "id": "4cce4f3c",
   "metadata": {},
   "outputs": [
    {
     "name": "stdout",
     "output_type": "stream",
     "text": [
      "[23, 235.0, 'raju', '45']\n",
      "[23, 235.0, 'raju', '45']\n",
      "['raju', '45']\n",
      "[235.0, 'raju']\n",
      "[235.0]\n",
      "['raju', '45']\n"
     ]
    }
   ],
   "source": [
    "print(p)\n",
    "print(p[::])\n",
    "print(p[2::])\n",
    "print(p[1:3:])\n",
    "print(p[1:3:2])\n",
    "print(p[-2::])"
   ]
  },
  {
   "cell_type": "code",
   "execution_count": 41,
   "id": "a756f63b",
   "metadata": {},
   "outputs": [
    {
     "name": "stdout",
     "output_type": "stream",
     "text": [
      "[23, 235.0, 'raju', '45']\n",
      "[235.0, 'raju']\n",
      "[23, 235.0]\n",
      "['raju']\n",
      "[]\n",
      "[]\n",
      "['45', 'raju', 235.0, 23]\n"
     ]
    }
   ],
   "source": [
    "print(p)\n",
    "print(p[-3:-1:])\n",
    "print(p[-4:2:])\n",
    "print(p[2:-1:])\n",
    "print(p[-2:-1:-3])\n",
    "print(p[-3:2:-2])\n",
    "print(p[::-1])"
   ]
  },
  {
   "cell_type": "code",
   "execution_count": 46,
   "id": "38c83690",
   "metadata": {},
   "outputs": [
    {
     "name": "stdout",
     "output_type": "stream",
     "text": [
      "28376482374\n",
      "47328467382 <class 'int'>\n"
     ]
    }
   ],
   "source": [
    "n = int(input())\n",
    "d = int(str(n)[::-1])\n",
    "print(d,type(d))"
   ]
  },
  {
   "cell_type": "code",
   "execution_count": 47,
   "id": "453d7d34",
   "metadata": {},
   "outputs": [
    {
     "name": "stdout",
     "output_type": "stream",
     "text": [
      "[45, 45, 78, 89] <class 'list'>\n"
     ]
    }
   ],
   "source": [
    "k = [45,45,78,89]\n",
    "print(k,type(k))"
   ]
  },
  {
   "cell_type": "code",
   "execution_count": 49,
   "id": "5759e9db",
   "metadata": {},
   "outputs": [
    {
     "name": "stdout",
     "output_type": "stream",
     "text": [
      "['__add__', '__class__', '__contains__', '__delattr__', '__delitem__', '__dir__', '__doc__', '__eq__', '__format__', '__ge__', '__getattribute__', '__getitem__', '__gt__', '__hash__', '__iadd__', '__imul__', '__init__', '__init_subclass__', '__iter__', '__le__', '__len__', '__lt__', '__mul__', '__ne__', '__new__', '__reduce__', '__reduce_ex__', '__repr__', '__reversed__', '__rmul__', '__setattr__', '__setitem__', '__sizeof__', '__str__', '__subclasshook__', 'append', 'clear', 'copy', 'count', 'extend', 'index', 'insert', 'pop', 'remove', 'reverse', 'sort']\n"
     ]
    }
   ],
   "source": [
    "print(dir(list))"
   ]
  },
  {
   "cell_type": "code",
   "execution_count": 53,
   "id": "667ade19",
   "metadata": {},
   "outputs": [
    {
     "name": "stdout",
     "output_type": "stream",
     "text": [
      "[1, 12, 56, 7, 'raju', 'somu', '45', '78.9', [10, 50]]\n"
     ]
    }
   ],
   "source": [
    "k = [1,12,56,7,'raju','somu','45','78.9']\n",
    "k.append([10,50])\n",
    "print(k)"
   ]
  },
  {
   "cell_type": "code",
   "execution_count": 54,
   "id": "e0e5e84d",
   "metadata": {},
   "outputs": [
    {
     "ename": "TypeError",
     "evalue": "'int' object is not iterable",
     "output_type": "error",
     "traceback": [
      "\u001b[1;31m-------------------------------------------------------------------------\u001b[0m",
      "\u001b[1;31mTypeError\u001b[0m                               Traceback (most recent call last)",
      "\u001b[1;32m<ipython-input-54-24d708b016af>\u001b[0m in \u001b[0;36m<module>\u001b[1;34m\u001b[0m\n\u001b[0;32m      1\u001b[0m \u001b[0mk\u001b[0m \u001b[1;33m=\u001b[0m \u001b[1;33m[\u001b[0m\u001b[1;36m1\u001b[0m\u001b[1;33m,\u001b[0m\u001b[1;36m12\u001b[0m\u001b[1;33m,\u001b[0m\u001b[1;36m56\u001b[0m\u001b[1;33m,\u001b[0m\u001b[1;36m7\u001b[0m\u001b[1;33m,\u001b[0m\u001b[1;34m'raju'\u001b[0m\u001b[1;33m,\u001b[0m\u001b[1;34m'somu'\u001b[0m\u001b[1;33m,\u001b[0m\u001b[1;34m'45'\u001b[0m\u001b[1;33m,\u001b[0m\u001b[1;34m'78.9'\u001b[0m\u001b[1;33m]\u001b[0m\u001b[1;33m\u001b[0m\u001b[1;33m\u001b[0m\u001b[0m\n\u001b[1;32m----> 2\u001b[1;33m \u001b[0mk\u001b[0m\u001b[1;33m.\u001b[0m\u001b[0mextend\u001b[0m\u001b[1;33m(\u001b[0m\u001b[1;36m56\u001b[0m\u001b[1;33m)\u001b[0m\u001b[1;33m\u001b[0m\u001b[1;33m\u001b[0m\u001b[0m\n\u001b[0m\u001b[0;32m      3\u001b[0m \u001b[0mprint\u001b[0m\u001b[1;33m(\u001b[0m\u001b[0mk\u001b[0m\u001b[1;33m)\u001b[0m\u001b[1;33m\u001b[0m\u001b[1;33m\u001b[0m\u001b[0m\n",
      "\u001b[1;31mTypeError\u001b[0m: 'int' object is not iterable"
     ]
    }
   ],
   "source": [
    "k = [1,12,56,7,'raju','somu','45','78.9']\n",
    "k.extend(56)\n",
    "print(k)"
   ]
  },
  {
   "cell_type": "code",
   "execution_count": 55,
   "id": "ed95d5b4",
   "metadata": {},
   "outputs": [
    {
     "name": "stdout",
     "output_type": "stream",
     "text": [
      "[1, 12, 56, 7, 'raju', 'somu', '45', '78.9', 'prasad', 45, 78]\n"
     ]
    }
   ],
   "source": [
    "k = [1,12,56,7,'raju','somu','45','78.9']\n",
    "k.extend(['prasad',45,78])\n",
    "print(k)"
   ]
  },
  {
   "cell_type": "code",
   "execution_count": 59,
   "id": "b8296a59",
   "metadata": {},
   "outputs": [
    {
     "name": "stdout",
     "output_type": "stream",
     "text": [
      "[45, 12, [57, 89, 'somu'], 86, 'rajesh']\n"
     ]
    }
   ],
   "source": [
    "g = [45,12,86,'rajesh']\n",
    "g.insert(2,[57,89,'somu'])\n",
    "print(g)"
   ]
  },
  {
   "cell_type": "code",
   "execution_count": 64,
   "id": "94e5482e",
   "metadata": {},
   "outputs": [
    {
     "name": "stdout",
     "output_type": "stream",
     "text": [
      "[45, 12, [57, 89, 'somu'], 86, 'rajesh']\n",
      "57\n"
     ]
    }
   ],
   "source": [
    "print(g)\n",
    "# m = g.index(57)\n",
    "print(g[2][0])"
   ]
  },
  {
   "cell_type": "code",
   "execution_count": 65,
   "id": "c7bdb327",
   "metadata": {},
   "outputs": [
    {
     "name": "stdout",
     "output_type": "stream",
     "text": [
      "[45, 12, [57, 89, 'somu'], 86, 'rajesh']\n"
     ]
    },
    {
     "ename": "ValueError",
     "evalue": "900 is not in list",
     "output_type": "error",
     "traceback": [
      "\u001b[1;31m-------------------------------------------------------------------------\u001b[0m",
      "\u001b[1;31mValueError\u001b[0m                              Traceback (most recent call last)",
      "\u001b[1;32m<ipython-input-65-a3c64826510e>\u001b[0m in \u001b[0;36m<module>\u001b[1;34m\u001b[0m\n\u001b[0;32m      1\u001b[0m \u001b[0mprint\u001b[0m\u001b[1;33m(\u001b[0m\u001b[0mg\u001b[0m\u001b[1;33m)\u001b[0m\u001b[1;33m\u001b[0m\u001b[1;33m\u001b[0m\u001b[0m\n\u001b[1;32m----> 2\u001b[1;33m \u001b[0mprint\u001b[0m\u001b[1;33m(\u001b[0m\u001b[0mg\u001b[0m\u001b[1;33m.\u001b[0m\u001b[0mindex\u001b[0m\u001b[1;33m(\u001b[0m\u001b[1;36m900\u001b[0m\u001b[1;33m)\u001b[0m\u001b[1;33m)\u001b[0m\u001b[1;33m\u001b[0m\u001b[1;33m\u001b[0m\u001b[0m\n\u001b[0m",
      "\u001b[1;31mValueError\u001b[0m: 900 is not in list"
     ]
    }
   ],
   "source": [
    "print(g)\n",
    "print(g.index(900))"
   ]
  },
  {
   "cell_type": "code",
   "execution_count": 66,
   "id": "e60a091b",
   "metadata": {},
   "outputs": [
    {
     "name": "stdout",
     "output_type": "stream",
     "text": [
      "[45, 12, [57, 89, 'somu'], 86, 'rajesh']\n",
      "[45, 12, [57, 89, 'somu'], 86]\n"
     ]
    }
   ],
   "source": [
    "print(g)\n",
    "g.pop()\n",
    "print(g)"
   ]
  },
  {
   "cell_type": "code",
   "execution_count": 67,
   "id": "d6ca39d5",
   "metadata": {},
   "outputs": [
    {
     "name": "stdout",
     "output_type": "stream",
     "text": [
      "[45, 12, [57, 89, 'somu'], 86]\n"
     ]
    },
    {
     "ename": "IndexError",
     "evalue": "pop index out of range",
     "output_type": "error",
     "traceback": [
      "\u001b[1;31m-------------------------------------------------------------------------\u001b[0m",
      "\u001b[1;31mIndexError\u001b[0m                              Traceback (most recent call last)",
      "\u001b[1;32m<ipython-input-67-3fdc360d3475>\u001b[0m in \u001b[0;36m<module>\u001b[1;34m\u001b[0m\n\u001b[0;32m      1\u001b[0m \u001b[0mprint\u001b[0m\u001b[1;33m(\u001b[0m\u001b[0mg\u001b[0m\u001b[1;33m)\u001b[0m\u001b[1;33m\u001b[0m\u001b[1;33m\u001b[0m\u001b[0m\n\u001b[1;32m----> 2\u001b[1;33m \u001b[0mg\u001b[0m\u001b[1;33m.\u001b[0m\u001b[0mpop\u001b[0m\u001b[1;33m(\u001b[0m\u001b[1;36m12\u001b[0m\u001b[1;33m)\u001b[0m\u001b[1;33m\u001b[0m\u001b[1;33m\u001b[0m\u001b[0m\n\u001b[0m\u001b[0;32m      3\u001b[0m \u001b[0mprint\u001b[0m\u001b[1;33m(\u001b[0m\u001b[0mg\u001b[0m\u001b[1;33m)\u001b[0m\u001b[1;33m\u001b[0m\u001b[1;33m\u001b[0m\u001b[0m\n",
      "\u001b[1;31mIndexError\u001b[0m: pop index out of range"
     ]
    }
   ],
   "source": [
    "print(g)\n",
    "g.pop(12)\n",
    "print(g)"
   ]
  },
  {
   "cell_type": "code",
   "execution_count": 68,
   "id": "04e53707",
   "metadata": {},
   "outputs": [
    {
     "name": "stdout",
     "output_type": "stream",
     "text": [
      "[45, 12, [57, 89, 'somu'], 86]\n",
      "[45, 12, 86]\n"
     ]
    }
   ],
   "source": [
    "print(g)\n",
    "g.pop(2)\n",
    "print(g)"
   ]
  },
  {
   "cell_type": "code",
   "execution_count": 71,
   "id": "7781a991",
   "metadata": {},
   "outputs": [
    {
     "name": "stdout",
     "output_type": "stream",
     "text": [
      "[12, 5, 89, 12, 12, 3, 3, 45, 78, 540]\n",
      "3\n"
     ]
    }
   ],
   "source": [
    "t = [12,5,89,12,12,3,3,45,78,540]\n",
    "print(t)\n",
    "print(t.count(12))"
   ]
  },
  {
   "cell_type": "code",
   "execution_count": 72,
   "id": "b6118846",
   "metadata": {},
   "outputs": [
    {
     "name": "stdout",
     "output_type": "stream",
     "text": [
      "[12, 5, 89, 12, 12, 3, 3, 45, 78, 540]\n",
      "[540, 78, 45, 3, 3, 12, 12, 89, 5, 12]\n"
     ]
    }
   ],
   "source": [
    "print(t)\n",
    "t.reverse()\n",
    "print(t)"
   ]
  },
  {
   "cell_type": "code",
   "execution_count": 73,
   "id": "e1e72e9c",
   "metadata": {},
   "outputs": [
    {
     "name": "stdout",
     "output_type": "stream",
     "text": [
      "[540, 78, 45, 3, 3, 12, 12, 89, 5, 12]\n",
      "[3, 3, 5, 12, 12, 12, 45, 78, 89, 540]\n"
     ]
    }
   ],
   "source": [
    "print(t)\n",
    "t.sort()\n",
    "print(t)"
   ]
  },
  {
   "cell_type": "code",
   "execution_count": 77,
   "id": "0eeee907",
   "metadata": {},
   "outputs": [
    {
     "name": "stdout",
     "output_type": "stream",
     "text": [
      "[3, 3, 5, 12, 12, 12, 45, 78, 89, 540]\n",
      "[540, 89, 78, 45, 12, 12, 12, 5, 3, 3]\n"
     ]
    }
   ],
   "source": [
    "print(t)\n",
    "t.sort(reverse=True)\n",
    "print(t)"
   ]
  },
  {
   "cell_type": "code",
   "execution_count": 78,
   "id": "d65e3526",
   "metadata": {},
   "outputs": [
    {
     "name": "stdout",
     "output_type": "stream",
     "text": [
      "[540, 89, 78, 45, 12, 12, 12, 5, 3, 3]\n",
      "[540, 89, 78, 45, 12, 12, 12, 5, 3, 3]\n",
      "[540, 89, 78, 45, 12, 12, 12, 5, 3, 3]\n"
     ]
    }
   ],
   "source": [
    "print(t)\n",
    "s = t.copy()\n",
    "print(t)\n",
    "print(s)"
   ]
  },
  {
   "cell_type": "code",
   "execution_count": 79,
   "id": "67741b50",
   "metadata": {},
   "outputs": [
    {
     "name": "stdout",
     "output_type": "stream",
     "text": [
      "[540, 89, 78, 45, 12, 12, 12, 5, 3]\n",
      "[540, 89, 78, 45, 12, 12, 12, 5, 3, 3]\n"
     ]
    }
   ],
   "source": [
    "t.pop()\n",
    "print(t)\n",
    "print(s)"
   ]
  },
  {
   "cell_type": "code",
   "execution_count": 81,
   "id": "02fff535",
   "metadata": {},
   "outputs": [
    {
     "name": "stdout",
     "output_type": "stream",
     "text": [
      "[540, 89, 78, 45, 12, 12, 12, 5, 3]\n",
      "[540, 89, 78, 45, 12, 12, 12, 5, 3, 3]\n",
      "[540, 89, 78, 45, 12, 12, 12, 5, 3]\n",
      "[89, 78, 45, 12, 12, 12, 5, 3, 3]\n"
     ]
    }
   ],
   "source": [
    "print(t)\n",
    "print(s)\n",
    "s.pop(0)\n",
    "print(t)\n",
    "print(s)"
   ]
  },
  {
   "cell_type": "code",
   "execution_count": 82,
   "id": "c1cb2b58",
   "metadata": {},
   "outputs": [
    {
     "name": "stdout",
     "output_type": "stream",
     "text": [
      "[540, 89, 78, 45, 12, 12, 12, 5, 3]\n",
      "[540, 89, 78, 45, 12, 12, 5, 3]\n"
     ]
    }
   ],
   "source": [
    "print(t)\n",
    "t.remove(12)\n",
    "print(t)"
   ]
  },
  {
   "cell_type": "code",
   "execution_count": 83,
   "id": "2da4aea3",
   "metadata": {},
   "outputs": [
    {
     "name": "stdout",
     "output_type": "stream",
     "text": [
      "[540, 89, 78, 45, 12, 12, 5, 3]\n"
     ]
    },
    {
     "ename": "ValueError",
     "evalue": "list.remove(x): x not in list",
     "output_type": "error",
     "traceback": [
      "\u001b[1;31m-------------------------------------------------------------------------\u001b[0m",
      "\u001b[1;31mValueError\u001b[0m                              Traceback (most recent call last)",
      "\u001b[1;32m<ipython-input-83-8e88c7da6467>\u001b[0m in \u001b[0;36m<module>\u001b[1;34m\u001b[0m\n\u001b[0;32m      1\u001b[0m \u001b[0mprint\u001b[0m\u001b[1;33m(\u001b[0m\u001b[0mt\u001b[0m\u001b[1;33m)\u001b[0m\u001b[1;33m\u001b[0m\u001b[1;33m\u001b[0m\u001b[0m\n\u001b[1;32m----> 2\u001b[1;33m \u001b[0mt\u001b[0m\u001b[1;33m.\u001b[0m\u001b[0mremove\u001b[0m\u001b[1;33m(\u001b[0m\u001b[1;36m500\u001b[0m\u001b[1;33m)\u001b[0m\u001b[1;33m\u001b[0m\u001b[1;33m\u001b[0m\u001b[0m\n\u001b[0m\u001b[0;32m      3\u001b[0m \u001b[0mprint\u001b[0m\u001b[1;33m(\u001b[0m\u001b[0mt\u001b[0m\u001b[1;33m)\u001b[0m\u001b[1;33m\u001b[0m\u001b[1;33m\u001b[0m\u001b[0m\n",
      "\u001b[1;31mValueError\u001b[0m: list.remove(x): x not in list"
     ]
    }
   ],
   "source": [
    "print(t)\n",
    "t.remove(500)\n",
    "print(t)"
   ]
  },
  {
   "cell_type": "code",
   "execution_count": 84,
   "id": "b2b5968e",
   "metadata": {},
   "outputs": [
    {
     "name": "stdout",
     "output_type": "stream",
     "text": [
      "[540, 89, 78, 45, 12, 12, 5, 3]\n",
      "[]\n"
     ]
    }
   ],
   "source": [
    "print(t)\n",
    "t.clear()\n",
    "print(t)"
   ]
  },
  {
   "cell_type": "code",
   "execution_count": 85,
   "id": "d5e96f0d",
   "metadata": {},
   "outputs": [
    {
     "name": "stdout",
     "output_type": "stream",
     "text": [
      "[]\n"
     ]
    },
    {
     "ename": "NameError",
     "evalue": "name 't' is not defined",
     "output_type": "error",
     "traceback": [
      "\u001b[1;31m-------------------------------------------------------------------------\u001b[0m",
      "\u001b[1;31mNameError\u001b[0m                               Traceback (most recent call last)",
      "\u001b[1;32m<ipython-input-85-9140215c0778>\u001b[0m in \u001b[0;36m<module>\u001b[1;34m\u001b[0m\n\u001b[0;32m      1\u001b[0m \u001b[0mprint\u001b[0m\u001b[1;33m(\u001b[0m\u001b[0mt\u001b[0m\u001b[1;33m)\u001b[0m\u001b[1;33m\u001b[0m\u001b[1;33m\u001b[0m\u001b[0m\n\u001b[0;32m      2\u001b[0m \u001b[1;32mdel\u001b[0m \u001b[0mt\u001b[0m\u001b[1;33m\u001b[0m\u001b[1;33m\u001b[0m\u001b[0m\n\u001b[1;32m----> 3\u001b[1;33m \u001b[0mprint\u001b[0m\u001b[1;33m(\u001b[0m\u001b[0mt\u001b[0m\u001b[1;33m)\u001b[0m\u001b[1;33m\u001b[0m\u001b[1;33m\u001b[0m\u001b[0m\n\u001b[0m",
      "\u001b[1;31mNameError\u001b[0m: name 't' is not defined"
     ]
    }
   ],
   "source": [
    "print(t)\n",
    "del t\n",
    "print(t)"
   ]
  },
  {
   "cell_type": "code",
   "execution_count": null,
   "id": "41213811",
   "metadata": {},
   "outputs": [],
   "source": [
    "5\n",
    "12\n",
    "45\n",
    "56\n",
    "78\n",
    "7\n",
    "\n",
    "[12,45,56,78,7]"
   ]
  },
  {
   "cell_type": "code",
   "execution_count": 87,
   "id": "860abc73",
   "metadata": {},
   "outputs": [
    {
     "name": "stdout",
     "output_type": "stream",
     "text": [
      "3\n",
      "45\n",
      "78\n",
      "96\n",
      "[45, 78, 96]\n"
     ]
    }
   ],
   "source": [
    "n = int(input())\n",
    "p = []\n",
    "for i in range(n):\n",
    "    k = int(input())\n",
    "    p.append(k)\n",
    "#     p.insert(i,k)\n",
    "print(p)"
   ]
  },
  {
   "cell_type": "markdown",
   "id": "921eaf9f",
   "metadata": {},
   "source": [
    "## Tuple:\n",
    "    - It can be represented as \"()\"\n",
    "    - It allows duplicate values\n",
    "    - It can't changes the values\n",
    "    - Slicing can be done because of index\n",
    "    - It stores the data in ordered format\n",
    "    - It can be typecast as tuple()"
   ]
  },
  {
   "cell_type": "code",
   "execution_count": 88,
   "id": "1e5ee5d9",
   "metadata": {},
   "outputs": [
    {
     "name": "stdout",
     "output_type": "stream",
     "text": [
      "(45, 56, 'prasad', '23.45') <class 'tuple'>\n"
     ]
    }
   ],
   "source": [
    "y = (45,56,'prasad','23.45')\n",
    "print(y,type(y))"
   ]
  },
  {
   "cell_type": "code",
   "execution_count": 89,
   "id": "26b755c0",
   "metadata": {},
   "outputs": [
    {
     "name": "stdout",
     "output_type": "stream",
     "text": [
      "['__add__', '__class__', '__contains__', '__delattr__', '__dir__', '__doc__', '__eq__', '__format__', '__ge__', '__getattribute__', '__getitem__', '__getnewargs__', '__gt__', '__hash__', '__init__', '__init_subclass__', '__iter__', '__le__', '__len__', '__lt__', '__mul__', '__ne__', '__new__', '__reduce__', '__reduce_ex__', '__repr__', '__rmul__', '__setattr__', '__sizeof__', '__str__', '__subclasshook__', 'count', 'index']\n"
     ]
    }
   ],
   "source": [
    "print(dir(tuple))"
   ]
  },
  {
   "cell_type": "code",
   "execution_count": 90,
   "id": "3d9e28d7",
   "metadata": {},
   "outputs": [
    {
     "name": "stdout",
     "output_type": "stream",
     "text": [
      "(12, 78, 45, 89, 12)\n",
      "2\n"
     ]
    }
   ],
   "source": [
    "k = (12,78,45,89,12)\n",
    "print(k)\n",
    "e = k.count(12)\n",
    "print(e)"
   ]
  },
  {
   "cell_type": "code",
   "execution_count": 91,
   "id": "9f29327c",
   "metadata": {},
   "outputs": [
    {
     "name": "stdout",
     "output_type": "stream",
     "text": [
      "(12, 78, 45, 89, 12)\n",
      "0\n"
     ]
    }
   ],
   "source": [
    "print(k)\n",
    "print(k.index(12))"
   ]
  },
  {
   "cell_type": "code",
   "execution_count": 92,
   "id": "fe944533",
   "metadata": {},
   "outputs": [
    {
     "name": "stdout",
     "output_type": "stream",
     "text": [
      "(12, 78, 45, 89, 12)\n"
     ]
    },
    {
     "ename": "ValueError",
     "evalue": "tuple.index(x): x not in tuple",
     "output_type": "error",
     "traceback": [
      "\u001b[1;31m-------------------------------------------------------------------------\u001b[0m",
      "\u001b[1;31mValueError\u001b[0m                              Traceback (most recent call last)",
      "\u001b[1;32m<ipython-input-92-515107379ef9>\u001b[0m in \u001b[0;36m<module>\u001b[1;34m\u001b[0m\n\u001b[0;32m      1\u001b[0m \u001b[0mprint\u001b[0m\u001b[1;33m(\u001b[0m\u001b[0mk\u001b[0m\u001b[1;33m)\u001b[0m\u001b[1;33m\u001b[0m\u001b[1;33m\u001b[0m\u001b[0m\n\u001b[1;32m----> 2\u001b[1;33m \u001b[0mprint\u001b[0m\u001b[1;33m(\u001b[0m\u001b[0mk\u001b[0m\u001b[1;33m.\u001b[0m\u001b[0mindex\u001b[0m\u001b[1;33m(\u001b[0m\u001b[1;36m200\u001b[0m\u001b[1;33m)\u001b[0m\u001b[1;33m)\u001b[0m\u001b[1;33m\u001b[0m\u001b[1;33m\u001b[0m\u001b[0m\n\u001b[0m",
      "\u001b[1;31mValueError\u001b[0m: tuple.index(x): x not in tuple"
     ]
    }
   ],
   "source": [
    "print(k)\n",
    "print(k.index(200))"
   ]
  },
  {
   "cell_type": "code",
   "execution_count": 93,
   "id": "9d1b2a71",
   "metadata": {},
   "outputs": [
    {
     "name": "stdout",
     "output_type": "stream",
     "text": [
      "(12, 78, 45, 89, 12)\n",
      "0\n"
     ]
    }
   ],
   "source": [
    "print(k)\n",
    "print(k.count(-1))"
   ]
  },
  {
   "cell_type": "code",
   "execution_count": 94,
   "id": "8ff87e31",
   "metadata": {},
   "outputs": [
    {
     "name": "stdout",
     "output_type": "stream",
     "text": [
      "3\n",
      "raju\n",
      "9\n",
      "op\n",
      "('raju', '9', 'op') <class 'tuple'>\n"
     ]
    }
   ],
   "source": [
    "kl = int(input())\n",
    "n = []\n",
    "for j in range(kl):\n",
    "    g = input()\n",
    "    n.append(g)\n",
    "w = tuple(n)\n",
    "print(w,type(w))"
   ]
  },
  {
   "cell_type": "code",
   "execution_count": null,
   "id": "9bc277d1",
   "metadata": {},
   "outputs": [],
   "source": []
  }
 ],
 "metadata": {
  "kernelspec": {
   "display_name": "Python 3",
   "language": "python",
   "name": "python3"
  },
  "language_info": {
   "codemirror_mode": {
    "name": "ipython",
    "version": 3
   },
   "file_extension": ".py",
   "mimetype": "text/x-python",
   "name": "python",
   "nbconvert_exporter": "python",
   "pygments_lexer": "ipython3",
   "version": "3.7.5"
  }
 },
 "nbformat": 4,
 "nbformat_minor": 5
}
