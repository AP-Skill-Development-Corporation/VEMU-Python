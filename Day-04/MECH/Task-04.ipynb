{
 "cells": [
  {
   "cell_type": "markdown",
   "id": "9751ebb1",
   "metadata": {},
   "source": [
    "#### Task-1:\n",
    "```\n",
    "Input-1:\n",
    "    234567823456\n",
    "Output-1:\n",
    "    Even numbers are: 2 4 6 8 2 4 6\n",
    "    Odd numbers are: 3 5 7 3 5\n",
    "\n",
    "Input-2:\n",
    "    458785\n",
    "Output-2:\n",
    "    Even numbers are: 4 8 8\n",
    "    Odd numbers are: 5 7 5\n",
    "```"
   ]
  },
  {
   "cell_type": "markdown",
   "id": "51988250",
   "metadata": {},
   "source": [
    "#### Task-2:\n",
    "\n",
    "```\n",
    "Use While Loop\n",
    "Input-1:\n",
    "    3425678934\n",
    "Output-1:\n",
    "    Even numbers of left half are: 4 2 6\n",
    "    Even numbers of right half are: 4 8\n",
    "    Odd numbers of left half are: 3 5\n",
    "    Odd numbers of right half are: 3 9 7\n",
    "\n",
    "Input-2:\n",
    "    765645342\n",
    "Output-2:\n",
    "    Even numbers of left half are: 6 6 4\n",
    "    Even numbers of right half are: 2 4\n",
    "    Odd numbers of left half are: 7 5\n",
    "    Odd numbers of right half are: 3 5\n",
    "```"
   ]
  },
  {
   "cell_type": "markdown",
   "id": "dae47bf5",
   "metadata": {},
   "source": [
    "### Task-3:\n",
    "```\n",
    "Use While Logic\n",
    "Input-1:\n",
    "    345672\n",
    "Output-1:\n",
    "    Even numbers are: 4 6 2\n",
    "    Odd numbers are: 3 5 7\n",
    "    Even numbers sum is: 12\n",
    "    Odd numbers sum is: 15\n",
    "    Reverse number is: 276543\n",
    "    Reverse of 345672 and its left half reverse is: 543672\n",
    "    Reverse of 345672 and its right half reverse is: 345276\n",
    "\n",
    "Input-2:\n",
    "    45879\n",
    "Output-2:\n",
    "    Even numbers are: 4 8\n",
    "    Odd numbers are: 5 7 9\n",
    "    Even numbers sum is: 12\n",
    "    Odd numbers sum is: 21\n",
    "    Reverse number is: 97854\n",
    "    Reverse of 45879 and its left half reverse is: 54879\n",
    "    Reverse of 45879 and its right half reverse is: 45897\n",
    "\n",
    "```"
   ]
  },
  {
   "cell_type": "code",
   "execution_count": null,
   "id": "a431ede8",
   "metadata": {},
   "outputs": [],
   "source": []
  }
 ],
 "metadata": {
  "kernelspec": {
   "display_name": "Python 3",
   "language": "python",
   "name": "python3"
  },
  "language_info": {
   "codemirror_mode": {
    "name": "ipython",
    "version": 3
   },
   "file_extension": ".py",
   "mimetype": "text/x-python",
   "name": "python",
   "nbconvert_exporter": "python",
   "pygments_lexer": "ipython3",
   "version": "3.7.5"
  }
 },
 "nbformat": 4,
 "nbformat_minor": 5
}
