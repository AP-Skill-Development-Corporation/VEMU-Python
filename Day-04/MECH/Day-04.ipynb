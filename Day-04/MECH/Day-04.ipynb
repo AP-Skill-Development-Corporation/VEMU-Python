{
 "cells": [
  {
   "cell_type": "code",
   "execution_count": 3,
   "id": "e546ef67",
   "metadata": {},
   "outputs": [
    {
     "name": "stdout",
     "output_type": "stream",
     "text": [
      "Enter a number: 3\n",
      "0 -> 0\n",
      "1 -> 1\n",
      "2 -> 4\n"
     ]
    }
   ],
   "source": [
    "n = int(input(\"Enter a number: \"))\n",
    "for i in range(n):\n",
    "    print(\"{} -> {}\".format(i,i*i))"
   ]
  },
  {
   "cell_type": "code",
   "execution_count": 5,
   "id": "b3ffaae2",
   "metadata": {},
   "outputs": [
    {
     "name": "stdout",
     "output_type": "stream",
     "text": [
      "8\n",
      "12\n",
      "eight\n",
      "nine\n",
      "even\n",
      "odd\n"
     ]
    }
   ],
   "source": [
    "st = int(input())\n",
    "en = int(input())\n",
    "for j in range(st,en):\n",
    "    if j == 1:\n",
    "        print(\"one\")\n",
    "    elif j == 2:\n",
    "        print(\"two\")\n",
    "    elif j == 3:\n",
    "        print(\"three\")\n",
    "    elif j == 4:\n",
    "        print(\"four\")\n",
    "    elif j == 5:\n",
    "        print(\"five\")\n",
    "    elif j == 6:\n",
    "        print(\"six\")\n",
    "    elif j == 7:\n",
    "        print(\"seven\")\n",
    "    elif j == 8:\n",
    "        print(\"eight\")\n",
    "    elif j == 9:\n",
    "        print(\"nine\")\n",
    "    else:\n",
    "        if j%2==0:\n",
    "            print(\"even\")\n",
    "        else:\n",
    "            print(\"odd\")"
   ]
  },
  {
   "cell_type": "code",
   "execution_count": 15,
   "id": "747ae83d",
   "metadata": {},
   "outputs": [
    {
     "name": "stdout",
     "output_type": "stream",
     "text": [
      "05\n",
      "104\n",
      "005,006,007,008,009,010,011,012,013,014,015,016,017,018,019,020,021,022,023,024,025,026,027,028,029,030,031,032,033,034,035,036,037,038,039,040,041,042,043,044,045,046,047,048,049,050,051,052,053,054,055,056,057,058,059,060,061,062,063,064,065,066,067,068,069,070,071,072,073,074,075,076,077,078,079,080,081,082,083,084,085,086,087,088,089,090,091,092,093,094,095,096,097,098,099,100,101,102,103,"
     ]
    }
   ],
   "source": [
    "n = int(input())\n",
    "m = int(input())\n",
    "for i in range(n,m):\n",
    "#     if i<=9:\n",
    "#         print(\"0\"+str(i))\n",
    "#     else:\n",
    "#         print(i)\n",
    "    print(\"{:03}\".format(i),end=\",\")"
   ]
  },
  {
   "cell_type": "code",
   "execution_count": 23,
   "id": "08ac62d5",
   "metadata": {},
   "outputs": [
    {
     "name": "stdout",
     "output_type": "stream",
     "text": [
      "Enter start range: 20\n",
      "Enter Stop range: 100\n",
      "Enter Step value: 20\n",
      "20\n",
      "40\n",
      "60\n",
      "80\n"
     ]
    }
   ],
   "source": [
    "n = int(input(\"Enter start range: \"))\n",
    "m = int(input(\"Enter Stop range: \"))\n",
    "s = int(input(\"Enter Step value: \"))\n",
    "for i in range(n,m,s):\n",
    "    print(i)"
   ]
  },
  {
   "cell_type": "markdown",
   "id": "eb0beded",
   "metadata": {},
   "source": [
    "# while:\n",
    "    Syntax:\n",
    "        initialization\n",
    "        while condition:\n",
    "            //stmnts\n",
    "            //incr/decr"
   ]
  },
  {
   "cell_type": "code",
   "execution_count": 1,
   "id": "82a334e6",
   "metadata": {},
   "outputs": [
    {
     "name": "stdout",
     "output_type": "stream",
     "text": [
      "Enter a number: 10\n",
      "0 1 2 3 4 5 6 7 8 9 "
     ]
    }
   ],
   "source": [
    "k = int(input(\"Enter a number: \"))\n",
    "j = 0\n",
    "while j!=k:\n",
    "    print(j,end=\" \")\n",
    "    j = j+1"
   ]
  },
  {
   "cell_type": "code",
   "execution_count": 4,
   "id": "91a3a4f2",
   "metadata": {},
   "outputs": [
    {
     "name": "stdout",
     "output_type": "stream",
     "text": [
      "3\n",
      "3 "
     ]
    }
   ],
   "source": [
    "m = int(input())\n",
    "while m!=0:\n",
    "    print(m,end=\" \")\n",
    "    m-=1"
   ]
  },
  {
   "cell_type": "code",
   "execution_count": 8,
   "id": "c08db16f",
   "metadata": {},
   "outputs": [
    {
     "name": "stdout",
     "output_type": "stream",
     "text": [
      "1.Forward Numbers\n",
      "2.Reverse Numbers\n",
      "3.Exit\n",
      "select Your option: 1\n",
      "Enter a range: 10\n",
      "0 1 2 3 4 5 6 7 8 9 \n",
      "1.Forward Numbers\n",
      "2.Reverse Numbers\n",
      "3.Exit\n",
      "select Your option: 2\n",
      "Enter a range: 20\n",
      "20 18 16 14 12 10 8 6 4 2 \n",
      "1.Forward Numbers\n",
      "2.Reverse Numbers\n",
      "3.Exit\n",
      "select Your option: 4\n"
     ]
    }
   ],
   "source": [
    "while True:\n",
    "    print(\"1.Forward Numbers\\n2.Reverse Numbers\\n3.Exit\")\n",
    "    op = int(input(\"select Your option: \"))\n",
    "    if op == 1:\n",
    "        n = int(input(\"Enter a range: \"))\n",
    "        for i in range(n):\n",
    "            print(i,end=\" \")\n",
    "        print(end=\"\\n\")\n",
    "    elif op == 2:\n",
    "        m = int(input(\"Enter a range: \"))\n",
    "        for j in range(m,0,-2):\n",
    "            print(j,end=\" \")\n",
    "        print(end=\"\\n\")\n",
    "    else:\n",
    "        break"
   ]
  },
  {
   "cell_type": "markdown",
   "id": "ddbbe526",
   "metadata": {},
   "source": [
    "## Jumping Statements:\n",
    "    - To control the flow of execution either to continue or else to exit from the loop\n",
    "    - It should be used only in control statements with conditional statements included\n",
    "    - continue\n",
    "    - break\n",
    "    - pass\n",
    "    - return"
   ]
  },
  {
   "cell_type": "code",
   "execution_count": 11,
   "id": "e7b7a266",
   "metadata": {},
   "outputs": [
    {
     "name": "stdout",
     "output_type": "stream",
     "text": [
      "Enter a number: 20\n",
      "1 2 3 4 5 6 7 8 9 "
     ]
    }
   ],
   "source": [
    "z = int(input(\"Enter a number: \"))\n",
    "for i in range(1,z):\n",
    "    if i == 10:\n",
    "        break\n",
    "    else:\n",
    "        print(i,end=\" \")"
   ]
  },
  {
   "cell_type": "markdown",
   "id": "8827dc81",
   "metadata": {},
   "source": [
    "## Inner Loops:\n",
    "    - Loop within a Loop\n",
    "    - Nested Loop\n",
    "    \n",
    "    Syntax:\n",
    "        for iterationvariablename in range():\n",
    "            for iterationvariablename in range():\n",
    "                //stmnts\n",
    "        "
   ]
  },
  {
   "cell_type": "code",
   "execution_count": null,
   "id": "fe418566",
   "metadata": {},
   "outputs": [],
   "source": [
    "h = int(input())\n",
    "for i in range(1,h+1):\n",
    "    for j in range(1,h+1):\n",
    "        print(i,end=\" \")\n",
    "    print(end=\"\\n\")"
   ]
  },
  {
   "cell_type": "code",
   "execution_count": 8,
   "id": "d5bc2da4",
   "metadata": {
    "scrolled": true
   },
   "outputs": [
    {
     "name": "stdout",
     "output_type": "stream",
     "text": [
      "Enter a number: 1234\n",
      "Given number is: 1234 and its reverse is 4321\n"
     ]
    }
   ],
   "source": [
    "n = int(input(\"Enter a number: \"))\n",
    "z = n\n",
    "reverse = 0\n",
    "while n!=0:\n",
    "    reverse=reverse*10+n%10\n",
    "    n = n//10\n",
    "print(\"Given number is: {} and its reverse is {}\".format(z,reverse)) "
   ]
  },
  {
   "cell_type": "code",
   "execution_count": null,
   "id": "d356bec9",
   "metadata": {},
   "outputs": [],
   "source": []
  }
 ],
 "metadata": {
  "kernelspec": {
   "display_name": "Python 3",
   "language": "python",
   "name": "python3"
  },
  "language_info": {
   "codemirror_mode": {
    "name": "ipython",
    "version": 3
   },
   "file_extension": ".py",
   "mimetype": "text/x-python",
   "name": "python",
   "nbconvert_exporter": "python",
   "pygments_lexer": "ipython3",
   "version": "3.7.5"
  }
 },
 "nbformat": 4,
 "nbformat_minor": 5
}
