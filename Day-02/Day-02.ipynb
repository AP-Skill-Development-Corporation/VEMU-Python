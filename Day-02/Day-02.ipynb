{
 "cells": [
  {
   "cell_type": "markdown",
   "id": "b74e3819",
   "metadata": {},
   "source": [
    "# Python Basics"
   ]
  },
  {
   "cell_type": "markdown",
   "id": "f983dd11",
   "metadata": {},
   "source": [
    "## Variables:\n",
    "    - To Store data\n",
    "    - Changes the values"
   ]
  },
  {
   "cell_type": "code",
   "execution_count": 2,
   "id": "2a8116ea",
   "metadata": {},
   "outputs": [
    {
     "data": {
      "text/plain": [
       "20"
      ]
     },
     "execution_count": 2,
     "metadata": {},
     "output_type": "execute_result"
    }
   ],
   "source": [
    "a = 20\n",
    "a"
   ]
  },
  {
   "cell_type": "code",
   "execution_count": 2,
   "id": "06b09234",
   "metadata": {},
   "outputs": [
    {
     "data": {
      "text/plain": [
       "30"
      ]
     },
     "execution_count": 2,
     "metadata": {},
     "output_type": "execute_result"
    }
   ],
   "source": [
    "b = 30\n",
    "a\n",
    "b"
   ]
  },
  {
   "cell_type": "code",
   "execution_count": 3,
   "id": "5e22dc39",
   "metadata": {},
   "outputs": [
    {
     "data": {
      "text/plain": [
       "(20, 30)"
      ]
     },
     "execution_count": 3,
     "metadata": {},
     "output_type": "execute_result"
    }
   ],
   "source": [
    "a,b"
   ]
  },
  {
   "cell_type": "code",
   "execution_count": 4,
   "id": "381e69c2",
   "metadata": {},
   "outputs": [
    {
     "name": "stdout",
     "output_type": "stream",
     "text": [
      "20 30\n"
     ]
    }
   ],
   "source": [
    "print(a,b)"
   ]
  },
  {
   "cell_type": "code",
   "execution_count": 4,
   "id": "c3bb8568",
   "metadata": {},
   "outputs": [
    {
     "name": "stdout",
     "output_type": "stream",
     "text": [
      "20.4 prasad\n"
     ]
    }
   ],
   "source": [
    "c,d = 20.4,\"prasad\"\n",
    "print(c,d)"
   ]
  },
  {
   "cell_type": "markdown",
   "id": "5778e4ce",
   "metadata": {},
   "source": [
    "## Type\n",
    "    - To know the data type of a variable"
   ]
  },
  {
   "cell_type": "code",
   "execution_count": 5,
   "id": "4a399b3e",
   "metadata": {},
   "outputs": [
    {
     "name": "stdout",
     "output_type": "stream",
     "text": [
      "10 <class 'int'>\n",
      "20.5 <class 'float'>\n",
      "tilak <class 'str'> 45 <class 'str'>\n"
     ]
    }
   ],
   "source": [
    "s,k,l,p = 10,20.5,\"tilak\",'45'\n",
    "print(s,type(s))\n",
    "print(k,type(k))\n",
    "print(l,type(l),p,type(p))"
   ]
  },
  {
   "cell_type": "code",
   "execution_count": 6,
   "id": "0e0c730b",
   "metadata": {},
   "outputs": [
    {
     "name": "stdout",
     "output_type": "stream",
     "text": [
      "0 0 0\n"
     ]
    }
   ],
   "source": [
    "e = f = a = 0\n",
    "print(e,f,a)"
   ]
  },
  {
   "cell_type": "markdown",
   "id": "2177e7f0",
   "metadata": {},
   "source": [
    "## Data Types:\n",
    "    - int -> only integer values\n",
    "    - float -> it allows integer and decimal values\n",
    "    - str -> it allows with ' ot \"\n",
    "    - All Data structures"
   ]
  },
  {
   "cell_type": "markdown",
   "id": "7895c82f",
   "metadata": {},
   "source": [
    "## Input Formatting:\n",
    "    - By default it stores the string data type values\n",
    "    - First preference for print and reading the values from user"
   ]
  },
  {
   "cell_type": "code",
   "execution_count": 11,
   "id": "88d5f3e7",
   "metadata": {},
   "outputs": [
    {
     "name": "stdout",
     "output_type": "stream",
     "text": [
      "Enter a name: 20.14\n",
      "20.14 <class 'str'>\n"
     ]
    }
   ],
   "source": [
    "t = input(\"Enter a name: \")\n",
    "print(t,type(t))"
   ]
  },
  {
   "cell_type": "code",
   "execution_count": null,
   "id": "7b2ce9b3",
   "metadata": {},
   "outputs": [],
   "source": []
  }
 ],
 "metadata": {
  "kernelspec": {
   "display_name": "Python 3",
   "language": "python",
   "name": "python3"
  },
  "language_info": {
   "codemirror_mode": {
    "name": "ipython",
    "version": 3
   },
   "file_extension": ".py",
   "mimetype": "text/x-python",
   "name": "python",
   "nbconvert_exporter": "python",
   "pygments_lexer": "ipython3",
   "version": "3.7.5"
  }
 },
 "nbformat": 4,
 "nbformat_minor": 5
}
