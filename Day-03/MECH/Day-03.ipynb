{
 "cells": [
  {
   "cell_type": "markdown",
   "id": "a1ec0e6c",
   "metadata": {},
   "source": [
    "## Operators:\n",
    "    - Arithmetic -> +,-,*,/,//,**,% \n",
    "    - Logical -> and,or,not\n",
    "    - Bitwise -> &&,||,~,>>,<<\n",
    "    - Assignment -> +=,-=,/=,*=,%=,//=\n",
    "    - Relational -> >,<,!=,==,<=,>=\n",
    "    - Membership -> in,not in\n",
    "    - Identity -> is,is not"
   ]
  },
  {
   "cell_type": "markdown",
   "id": "5668d0f0",
   "metadata": {},
   "source": [
    "## Output Format:\n",
    "    - ,\n",
    "    - %\n",
    "    - .format"
   ]
  },
  {
   "cell_type": "code",
   "execution_count": 30,
   "id": "26e73268",
   "metadata": {},
   "outputs": [
    {
     "name": "stdout",
     "output_type": "stream",
     "text": [
      "Enter a number: 2\n",
      "Enter a number: 6\n",
      "Addition of 2 and 6 is: 8\n",
      "Substraction of 2 and 6 is -4\n",
      "Division of 2 and 6 is: 0.3333333333333333\n"
     ]
    }
   ],
   "source": [
    "n = input(\"Enter a number: \")\n",
    "m = input(\"Enter a number: \")\n",
    "print(\"Addition of\",n,\"and\",m,\"is:\",int(n)+int(m))\n",
    "print(\"Substraction of %s and %s is %d\"%(n,m,int(n)-int(m)))\n",
    "print(\"Division of {} and {} is: {}\".format(n,m,int(n)/int(m)))"
   ]
  },
  {
   "cell_type": "markdown",
   "id": "06cf4cdc",
   "metadata": {},
   "source": [
    "## Conditional Statements:\n",
    "    - To Check whether a given condition is either \"True\" or \"False\".\n",
    "    - if -> single case\n",
    "    - if-else -> 2 cases\n",
    "    - nested if -> 2 or more cases\n",
    "    - elif -> 2 or more cases"
   ]
  },
  {
   "cell_type": "code",
   "execution_count": 34,
   "id": "f10830a3",
   "metadata": {},
   "outputs": [
    {
     "name": "stdout",
     "output_type": "stream",
     "text": [
      "Enter a number: 1\n",
      "Entered number 1 is not equal to 12\n"
     ]
    }
   ],
   "source": [
    "# If\n",
    "#     syntax:\n",
    "#         if condition:\n",
    "#             //stmnts\n",
    "m = int(input(\"Enter a number: \"))\n",
    "if m != '12':\n",
    "    print(\"Entered number {} is not equal to 12\"\n",
    "          .format(m))"
   ]
  },
  {
   "cell_type": "code",
   "execution_count": 36,
   "id": "e4b1ca2e",
   "metadata": {},
   "outputs": [
    {
     "name": "stdout",
     "output_type": "stream",
     "text": [
      "Enter your roll number: 194M1A0302\n",
      "Entered roll number 194M1A0302 is equal to 194M1A0302\n"
     ]
    }
   ],
   "source": [
    "k = input(\"Enter your roll number: \")\n",
    "if k == \"194M1A0302\":\n",
    "    print(\"Entered roll number {} is equal to 194M1A0302\"\n",
    "         .format(k))"
   ]
  },
  {
   "cell_type": "code",
   "execution_count": null,
   "id": "fa877eac",
   "metadata": {},
   "outputs": [],
   "source": [
    "# if-else\n",
    "#     syntax:\n",
    "#         if condition:\n",
    "#             //True stmnt\n",
    "#         else:\n",
    "#             //False stmnt"
   ]
  },
  {
   "cell_type": "code",
   "execution_count": 38,
   "id": "75f39aec",
   "metadata": {},
   "outputs": [
    {
     "name": "stdout",
     "output_type": "stream",
     "text": [
      "Enter a number: 4\n",
      "Entered number 4 is divisible by 2\n"
     ]
    }
   ],
   "source": [
    "j = int(input(\"Enter a number: \"))\n",
    "if j%2==0:\n",
    "    print(\"Entered number {} is divisible by 2\"\n",
    "          .format(j))\n",
    "else:\n",
    "    print(\"Entered number {} is not divisible by 2\"\n",
    "          .format(j))"
   ]
  },
  {
   "cell_type": "code",
   "execution_count": 48,
   "id": "675a8100",
   "metadata": {},
   "outputs": [
    {
     "name": "stdout",
     "output_type": "stream",
     "text": [
      "26\n",
      "Entered number 26 is divisible by 2 and it is greater than or equal to 20\n"
     ]
    }
   ],
   "source": [
    "# nested if else is optioanl case\n",
    "k = int(input())\n",
    "if k%2==0:\n",
    "    if k >=20:\n",
    "        print(\"Entered number {} is divisible by 2 and it is greater than or equal to 20\".format(k))\n",
    "    else:\n",
    "        print(\"Entered number {} is divisible by 2 and it is not greater than or equal to 20\".format(k))\n",
    "else:\n",
    "    print(\"Entered number {} is not divisible by 2\"\n",
    "         .format(k))"
   ]
  },
  {
   "cell_type": "code",
   "execution_count": null,
   "id": "4b585d2f",
   "metadata": {},
   "outputs": [],
   "source": [
    "# elif ladder\n",
    "#     syntax:\n",
    "#         if condition-1:\n",
    "#             //stmnt-1\n",
    "#         elif condition-2:\n",
    "#             //stmnt-2\n",
    "#             |      |\n",
    "#         elif condition-n:\n",
    "#             //stmnt-n\n",
    "#         else:\n",
    "#             //stmnt-(n-1)"
   ]
  },
  {
   "cell_type": "code",
   "execution_count": 62,
   "id": "2834ffee",
   "metadata": {},
   "outputs": [
    {
     "name": "stdout",
     "output_type": "stream",
     "text": [
      "-----------Register Here-----------\n",
      "Enter Mailid: sam@gmail.com\n",
      "Enter password: 0000\n",
      "Your emailid sam@gmail.com is Successfully Registered\n",
      "------------Login Here--------------\n",
      "Enter Your Mailid: asdasd\n",
      "Enter Your Password: 1232\n",
      "Invalid Username/Password\n"
     ]
    }
   ],
   "source": [
    "print(\"-----------Register Here-----------\")\n",
    "e = input(\"Enter Mailid: \")\n",
    "p = input(\"Enter password: \")\n",
    "print(\"Your emailid {} is Successfully Registered\".format(e))\n",
    "print(\"------------Login Here--------------\")\n",
    "email = input(\"Enter Your Mailid: \")\n",
    "password = input(\"Enter Your Password: \")\n",
    "if email == e and password == p:\n",
    "    print(\"Welcome {}\".format(email))\n",
    "else:\n",
    "    print(\"Invalid Username/Password\")"
   ]
  },
  {
   "cell_type": "code",
   "execution_count": 65,
   "id": "c19b6b81",
   "metadata": {},
   "outputs": [
    {
     "name": "stdout",
     "output_type": "stream",
     "text": [
      "Enter Emailid: sample@gmail.com\n",
      "Enter Password: 1235\n",
      "Welcome sample@gmail.com\n"
     ]
    }
   ],
   "source": [
    "email = input(\"Enter Emailid: \")\n",
    "if email == \"sample@gmail.com\":\n",
    "    password = input(\"Enter Password: \")\n",
    "    if password == \"1235\":\n",
    "        print(\"Welcome {}\".format(email))\n",
    "    else:\n",
    "        print(\"Invalid Password\")\n",
    "else:\n",
    "    print(\"Invalid {} mailid\".format(email))"
   ]
  },
  {
   "cell_type": "markdown",
   "id": "1ec76b42",
   "metadata": {},
   "source": [
    "## Control statements,Loops,Iterations,Repititions:\n",
    "    - To control the flow of execution\n",
    "    - for -> Particular range[Known values]\n",
    "    - while -> Infinity Loop [Unknown Values]"
   ]
  },
  {
   "cell_type": "markdown",
   "id": "f1ef299c",
   "metadata": {},
   "source": [
    "## for\n",
    "    syntax:\n",
    "        for iterationvariablename in range():\n",
    "            //stmnts\n",
    "        \n",
    "        for iterationvariablename in iterator:\n",
    "            //stmnts"
   ]
  },
  {
   "cell_type": "markdown",
   "id": "8849be8e",
   "metadata": {},
   "source": [
    "## Range:\n",
    "    - range(end)\n",
    "        => starts with 0 and ends with k-1 and increment with +1\n",
    "    - range(start,end)\n",
    "        => starts with start value and ends with end-1 value and increment with +1\n",
    "    - range(start,end,step)\n",
    "        => starts with start value and ends with end-1 value and increment with step value"
   ]
  },
  {
   "cell_type": "code",
   "execution_count": 68,
   "id": "a658267b",
   "metadata": {},
   "outputs": [
    {
     "name": "stdout",
     "output_type": "stream",
     "text": [
      "Enter stop range: 10\n",
      "2 3 4 5 6 7 8 9 10 11 "
     ]
    }
   ],
   "source": [
    "n = int(input(\"Enter stop range: \"))\n",
    "for i in range(n):\n",
    "    print(i,end=\" \")"
   ]
  },
  {
   "cell_type": "code",
   "execution_count": null,
   "id": "ffcee9d4",
   "metadata": {},
   "outputs": [],
   "source": []
  }
 ],
 "metadata": {
  "kernelspec": {
   "display_name": "Python 3",
   "language": "python",
   "name": "python3"
  },
  "language_info": {
   "codemirror_mode": {
    "name": "ipython",
    "version": 3
   },
   "file_extension": ".py",
   "mimetype": "text/x-python",
   "name": "python",
   "nbconvert_exporter": "python",
   "pygments_lexer": "ipython3",
   "version": "3.7.5"
  }
 },
 "nbformat": 4,
 "nbformat_minor": 5
}
