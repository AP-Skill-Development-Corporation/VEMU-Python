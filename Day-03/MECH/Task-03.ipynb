{
 "cells": [
  {
   "cell_type": "markdown",
   "id": "c1693df2",
   "metadata": {},
   "source": [
    "## Task-1:\n",
    "```\n",
    "    Print the square of each number on a separate line    \n",
    "Sample Input-1:\n",
    "    5\n",
    "Sample Output-1:\n",
    "    0\n",
    "    1\n",
    "    4\n",
    "    9\n",
    "    16\n",
    "\n",
    "Sample Input-2:\n",
    "    3\n",
    "Sample Output-2:\n",
    "    0\n",
    "    1\n",
    "    4\n",
    "```"
   ]
  },
  {
   "cell_type": "markdown",
   "id": "dfa7d92c",
   "metadata": {},
   "source": [
    "## Task-2:\n",
    "```\n",
    "For each integer n in the interval [a,b] (given as input) :\n",
    "    1. If 1<n<9, then print the English representation of it in lowercase. That is \"one\" for 1, \"two\" for 2, and so on.\n",
    "    2. Else if n>9 and it is an even number, then print \"even\".\n",
    "    3. Else if n<9 and it is an odd number, then print \"odd\".\n",
    "    \n",
    "    Sample Input-1:\n",
    "        8\n",
    "        11\n",
    "    Sample Output-1:\n",
    "        eight\n",
    "        nine\n",
    "        even\n",
    "        odd\n",
    "    Sample Input-2:\n",
    "        3\n",
    "        15\n",
    "    Sample Output-2:\n",
    "        three\n",
    "        four\n",
    "        five\n",
    "        six\n",
    "        seven\n",
    "        eight\n",
    "        nine\n",
    "        even\n",
    "        odd\n",
    "        even\n",
    "        odd\n",
    "        even\n",
    "```"
   ]
  },
  {
   "cell_type": "markdown",
   "id": "cc0e3131",
   "metadata": {},
   "source": [
    "## Task-3:\n",
    "```\n",
    "    Print the same series of roll numbers with years difference like your seniors roll and juniors roll with your branch only\n",
    "    \n",
    "    Input:\n",
    "        422\n",
    "        427\n",
    "    Output:\n",
    "        1711A0422    1811A0422     1911A0422\n",
    "        1711A0423    1811A0423     1911A0423\n",
    "        1711A0424    1811A0424     1911A0424\n",
    "        1711A0425    1811A0425     1911A0425\n",
    "        1711A0426    1811A0426     1911A0426\n",
    "        1711A0427    1811A0427     1911A0427\n",
    "```"
   ]
  },
  {
   "cell_type": "markdown",
   "id": "9a06a5b5",
   "metadata": {},
   "source": [
    "## Task-4:\n",
    "```\n",
    "    Try to print the different branch with same roll numbers\n",
    "    Input:\n",
    "        4\n",
    "        8\n",
    "    Output:\n",
    "        1811A0422\n",
    "        1811A0522\n",
    "        1811A0622\n",
    "        1811A0722\n",
    "        1811A0822\n",
    "        \n",
    "    Input:\n",
    "        7\n",
    "        13\n",
    "    Output:\n",
    "        1811A0722\n",
    "        1811A0822\n",
    "        1811A0922\n",
    "        1811A1022\n",
    "        1811A1122\n",
    "        1811A1222\n",
    "        1811A1322\n",
    "```"
   ]
  },
  {
   "cell_type": "markdown",
   "id": "149ee561",
   "metadata": {},
   "source": [
    "## Task-5:\n",
    "```\n",
    "    Input:\n",
    "        4\n",
    "        7\n",
    "    Output:\n",
    "        1411A0707\n",
    "        1511A0706\n",
    "        1611A0705\n",
    "        1711A0704\n",
    "```"
   ]
  },
  {
   "cell_type": "code",
   "execution_count": null,
   "id": "66766d1d",
   "metadata": {},
   "outputs": [],
   "source": []
  }
 ],
 "metadata": {
  "kernelspec": {
   "display_name": "Python 3",
   "language": "python",
   "name": "python3"
  },
  "language_info": {
   "codemirror_mode": {
    "name": "ipython",
    "version": 3
   },
   "file_extension": ".py",
   "mimetype": "text/x-python",
   "name": "python",
   "nbconvert_exporter": "python",
   "pygments_lexer": "ipython3",
   "version": "3.7.5"
  }
 },
 "nbformat": 4,
 "nbformat_minor": 5
}
