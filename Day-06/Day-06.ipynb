{
 "cells": [
  {
   "cell_type": "markdown",
   "id": "8c14f3dd",
   "metadata": {},
   "source": [
    "```\n",
    "Input-1:\n",
    "    345672\n",
    "Output-1:\n",
    "    Even numbers are: 4 6 2\n",
    "    Odd numbers are: 3 5 7\n",
    "    Even numbers sum is: 12\n",
    "    Odd numbers sum is: 15\n",
    "    Reverse number is: 276543\n",
    "    Reverse of 345672 and its left half reverse is: 543672\n",
    "    Reverse of 345672 and its right half reverse is: 345276\n",
    "```"
   ]
  },
  {
   "cell_type": "code",
   "execution_count": 66,
   "id": "81a3049d",
   "metadata": {
    "scrolled": true
   },
   "outputs": [
    {
     "name": "stdout",
     "output_type": "stream",
     "text": [
      "345672\n",
      "Even numbers are:  4 6 2 \n",
      "Odd numbers are:  3 5 7 \n",
      "Even numbers sum is: 12\n",
      "Odd numbers sum is: 15\n",
      "Reverse number is:  276543\n",
      "Reverse of 345672 and its right half reverse is: 345276\n",
      "Reverse of 345672 and its left half reverse is: 543672\n"
     ]
    }
   ],
   "source": [
    "n = int(input())\n",
    "p = s = n\n",
    "c = r = j = mz = sa = 0\n",
    "el = []\n",
    "ol = []\n",
    "while n!=0:\n",
    "    k = n%10\n",
    "    r = r*10+k\n",
    "    if k%2==0:\n",
    "        el.append(k)\n",
    "    else:\n",
    "        ol.append(k)\n",
    "    c +=1\n",
    "    n = n//10\n",
    "print(\"Even numbers are: \",end=\" \")\n",
    "for i in range(len(el)-1,-1,-1):\n",
    "    print(el[i],end=\" \")\n",
    "print(\"\\nOdd numbers are: \",end=\" \")\n",
    "for i in range(len(ol)-1,-1,-1):\n",
    "    print(ol[i],end=\" \")\n",
    "print(end=\"\\n\")\n",
    "f = c\n",
    "while c != f//2:\n",
    "    j = j*10+p%10\n",
    "    c = c-1\n",
    "    p //= 10\n",
    "print(\"Even numbers sum is: {}\".format(sum(el)))\n",
    "print(\"Odd numbers sum is: {}\".format(sum(ol)))\n",
    "print(\"Reverse number is: \",r)\n",
    "print(\"Reverse of {} and its right half reverse is: {}\"\n",
    "      .format(s,int(str(p)+str(j))))\n",
    "while j!=0:\n",
    "    mz = mz*10+j%10\n",
    "    j//=10\n",
    "while p!=0:\n",
    "    sa = sa*10+p%10\n",
    "    p//=10\n",
    "print(\"Reverse of {} and its left half reverse is: {}\"\n",
    "      .format(s,int(str(sa)+str(mz))))"
   ]
  },
  {
   "cell_type": "code",
   "execution_count": 5,
   "id": "3884f337",
   "metadata": {},
   "outputs": [
    {
     "name": "stdout",
     "output_type": "stream",
     "text": [
      "12\n",
      "45.0\n",
      "78\n",
      "Raju\n"
     ]
    }
   ],
   "source": [
    "j = [12,45.00,78,'Raju']\n",
    "for i in range(len(j)):\n",
    "    print(j[i])"
   ]
  },
  {
   "cell_type": "code",
   "execution_count": 6,
   "id": "e9c6b1ea",
   "metadata": {},
   "outputs": [
    {
     "name": "stdout",
     "output_type": "stream",
     "text": [
      "12\n",
      "45.0\n",
      "78\n",
      "Raju\n"
     ]
    }
   ],
   "source": [
    "j = [12,45.00,78,'Raju']\n",
    "for i in j:\n",
    "    print(i)"
   ]
  },
  {
   "cell_type": "code",
   "execution_count": 7,
   "id": "7fcb6625",
   "metadata": {},
   "outputs": [
    {
     "name": "stdout",
     "output_type": "stream",
     "text": [
      "Raju\n",
      "78\n",
      "45.0\n",
      "12\n"
     ]
    }
   ],
   "source": [
    "j = [12,45.00,78,'Raju']\n",
    "for i in range(len(j)-1,-1,-1):\n",
    "    print(j[i])"
   ]
  },
  {
   "cell_type": "code",
   "execution_count": 12,
   "id": "90a95488",
   "metadata": {},
   "outputs": [
    {
     "name": "stdout",
     "output_type": "stream",
     "text": [
      "109\n"
     ]
    }
   ],
   "source": [
    "p = [2,45,8,9,45]\n",
    "print(sum(p))"
   ]
  },
  {
   "cell_type": "code",
   "execution_count": 9,
   "id": "22b3664d",
   "metadata": {},
   "outputs": [
    {
     "name": "stdout",
     "output_type": "stream",
     "text": [
      "54 123 12354\n"
     ]
    }
   ],
   "source": [
    "y = 12345\n",
    "t = len(str(y))-1\n",
    "k = 0\n",
    "while t != t//2+1:\n",
    "    k = k*10+y%10\n",
    "    y //=10\n",
    "    t = t-1\n",
    "#     print(t)\n",
    "print(k,y,int(str(y)+str(k)))"
   ]
  },
  {
   "cell_type": "code",
   "execution_count": 4,
   "id": "ad9cf601",
   "metadata": {},
   "outputs": [
    {
     "name": "stdout",
     "output_type": "stream",
     "text": [
      "5 2\n"
     ]
    }
   ],
   "source": [
    "t = 5\n",
    "print(t,t//2)"
   ]
  },
  {
   "cell_type": "code",
   "execution_count": 7,
   "id": "b6135b54",
   "metadata": {},
   "outputs": [
    {
     "name": "stdout",
     "output_type": "stream",
     "text": [
      "enter a number: 23\n",
      "the given number 23 is odd\n"
     ]
    }
   ],
   "source": [
    "n = int(input(\"enter a number: \"))\n",
    "if (n%2==0):\n",
    "    print(\"the given number {} is even\".format(n))\n",
    "else:\n",
    "    print(\"the given number {} is odd\".format(n))\n",
    "    "
   ]
  },
  {
   "cell_type": "code",
   "execution_count": 15,
   "id": "4f55491d",
   "metadata": {},
   "outputs": [
    {
     "name": "stdout",
     "output_type": "stream",
     "text": [
      "1234567\n",
      "765\n"
     ]
    }
   ],
   "source": [
    "n = int(input())\n",
    "p = c = d = 0\n",
    "while n!=0:\n",
    "    p = p*10+n%10\n",
    "    n = n//10\n",
    "    c = c+1\n",
    "z = c\n",
    "while p != 0:\n",
    "    if c != z//2:\n",
    "        d = d*10+p%10\n",
    "        c = c-1\n",
    "    else:\n",
    "        break\n",
    "    p //=10\n",
    "print(p)"
   ]
  },
  {
   "cell_type": "markdown",
   "id": "d53a88a8",
   "metadata": {},
   "source": [
    "## Dictionary:\n",
    "    - It can be represented as \"{}\"\n",
    "    - It cant allows the duplicate values for keys \n",
    "    - It can be with key and value pairs\n",
    "    - Slicing can be done only for values not for keys\n",
    "    - It can be typecasted as dict()\n",
    "    - [{(),()}]\n",
    "    - It can allows ordered format of data"
   ]
  },
  {
   "cell_type": "code",
   "execution_count": 16,
   "id": "156d3df8",
   "metadata": {},
   "outputs": [
    {
     "name": "stdout",
     "output_type": "stream",
     "text": [
      "{'rollnumber': [12, 45, 56, 89, 78], 'name': 'raju', 'sal': 25000} <class 'dict'>\n"
     ]
    }
   ],
   "source": [
    "s = {'rollnumber':[12,45,56,89,78],'name':'raju','sal':25000}\n",
    "print(s,type(s))"
   ]
  },
  {
   "cell_type": "code",
   "execution_count": 17,
   "id": "00844152",
   "metadata": {},
   "outputs": [
    {
     "name": "stdout",
     "output_type": "stream",
     "text": [
      "['__class__', '__contains__', '__delattr__', '__delitem__', '__dir__', '__doc__', '__eq__', '__format__', '__ge__', '__getattribute__', '__getitem__', '__gt__', '__hash__', '__init__', '__init_subclass__', '__iter__', '__le__', '__len__', '__lt__', '__ne__', '__new__', '__reduce__', '__reduce_ex__', '__repr__', '__setattr__', '__setitem__', '__sizeof__', '__str__', '__subclasshook__', 'clear', 'copy', 'fromkeys', 'get', 'items', 'keys', 'pop', 'popitem', 'setdefault', 'update', 'values']\n"
     ]
    }
   ],
   "source": [
    "print(dir(dict))"
   ]
  },
  {
   "cell_type": "code",
   "execution_count": 19,
   "id": "bd1fddec",
   "metadata": {},
   "outputs": [
    {
     "name": "stdout",
     "output_type": "stream",
     "text": [
      "[12, 45, 56, 89, 78]\n",
      "[12, 45, 56, 89, 78]\n"
     ]
    }
   ],
   "source": [
    "print(s['rollnumber'])\n",
    "print(s.get('rollnumber'))"
   ]
  },
  {
   "cell_type": "code",
   "execution_count": 22,
   "id": "da2c2432",
   "metadata": {},
   "outputs": [
    {
     "name": "stdout",
     "output_type": "stream",
     "text": [
      "dict_keys(['rollnumber', 'name', 'sal'])\n",
      "dict_values([[12, 45, 56, 89, 78], 'raju', 25000])\n",
      "dict_items([('rollnumber', [12, 45, 56, 89, 78]), ('name', 'raju'), ('sal', 25000)])\n"
     ]
    }
   ],
   "source": [
    "print(s.keys())\n",
    "print(s.values())\n",
    "print(s.items())"
   ]
  },
  {
   "cell_type": "code",
   "execution_count": 25,
   "id": "3ea9a00b",
   "metadata": {},
   "outputs": [
    {
     "name": "stdout",
     "output_type": "stream",
     "text": [
      "{'rollnumber': [12, 45, 56, 89, 78], 'name': 'raju', 'sal': 25000}\n",
      "{'rollnumber': [12, 45, 56, 89, 78], 'name': 'raju', 'sal': 25000, 'phone': 98698574857}\n"
     ]
    }
   ],
   "source": [
    "print(s)\n",
    "s['phone'] = 98698574857\n",
    "print(s)"
   ]
  },
  {
   "cell_type": "code",
   "execution_count": 26,
   "id": "af2d5ba3",
   "metadata": {},
   "outputs": [
    {
     "name": "stdout",
     "output_type": "stream",
     "text": [
      "{'rollnumber': [12, 45, 56, 89, 78], 'name': 'raju', 'sal': 25000, 'phone': 98698574857}\n"
     ]
    },
    {
     "ename": "TypeError",
     "evalue": "setdefault expected at least 1 arguments, got 0",
     "output_type": "error",
     "traceback": [
      "\u001b[1;31m-------------------------------------------------------------------------\u001b[0m",
      "\u001b[1;31mTypeError\u001b[0m                               Traceback (most recent call last)",
      "\u001b[1;32m<ipython-input-26-1154d57ec85d>\u001b[0m in \u001b[0;36m<module>\u001b[1;34m\u001b[0m\n\u001b[0;32m      1\u001b[0m \u001b[0mprint\u001b[0m\u001b[1;33m(\u001b[0m\u001b[0ms\u001b[0m\u001b[1;33m)\u001b[0m\u001b[1;33m\u001b[0m\u001b[1;33m\u001b[0m\u001b[0m\n\u001b[1;32m----> 2\u001b[1;33m \u001b[0ms\u001b[0m\u001b[1;33m.\u001b[0m\u001b[0msetdefault\u001b[0m\u001b[1;33m(\u001b[0m\u001b[1;33m)\u001b[0m\u001b[1;33m\u001b[0m\u001b[1;33m\u001b[0m\u001b[0m\n\u001b[0m\u001b[0;32m      3\u001b[0m \u001b[0mprint\u001b[0m\u001b[1;33m(\u001b[0m\u001b[0ms\u001b[0m\u001b[1;33m)\u001b[0m\u001b[1;33m\u001b[0m\u001b[1;33m\u001b[0m\u001b[0m\n",
      "\u001b[1;31mTypeError\u001b[0m: setdefault expected at least 1 arguments, got 0"
     ]
    }
   ],
   "source": [
    "print(s)\n",
    "s.setdefault()\n",
    "print(s)"
   ]
  },
  {
   "cell_type": "code",
   "execution_count": 27,
   "id": "abcb4eb0",
   "metadata": {},
   "outputs": [
    {
     "name": "stdout",
     "output_type": "stream",
     "text": [
      "{'rollnumber': [12, 45, 56, 89, 78], 'name': 'raju', 'sal': 25000, 'phone': 98698574857}\n",
      "{'rollnumber': [12, 45, 56, 89, 78], 'name': 'raju', 'sal': 25000, 'phone': 98698574857, 'percentage': None}\n"
     ]
    }
   ],
   "source": [
    "print(s)\n",
    "s.setdefault('percentage')\n",
    "print(s)"
   ]
  },
  {
   "cell_type": "code",
   "execution_count": 28,
   "id": "cdf44710",
   "metadata": {},
   "outputs": [
    {
     "name": "stdout",
     "output_type": "stream",
     "text": [
      "{'rollnumber': [12, 45, 56, 89, 78], 'name': 'raju', 'sal': 25000, 'phone': 98698574857, 'percentage': None}\n",
      "{'rollnumber': [12, 45, 56, 89, 78], 'name': 'raju', 'sal': 25000, 'phone': 98698574857, 'percentage': 86}\n"
     ]
    }
   ],
   "source": [
    "print(s)\n",
    "s['percentage'] = 86\n",
    "print(s)"
   ]
  },
  {
   "cell_type": "code",
   "execution_count": 29,
   "id": "f585633c",
   "metadata": {},
   "outputs": [
    {
     "name": "stdout",
     "output_type": "stream",
     "text": [
      "{'rollnumber': [12, 45, 56, 89, 78], 'name': 'raju', 'sal': 25000, 'phone': 98698574857, 'percentage': 86}\n"
     ]
    },
    {
     "ename": "TypeError",
     "evalue": "pop expected at least 1 arguments, got 0",
     "output_type": "error",
     "traceback": [
      "\u001b[1;31m-------------------------------------------------------------------------\u001b[0m",
      "\u001b[1;31mTypeError\u001b[0m                               Traceback (most recent call last)",
      "\u001b[1;32m<ipython-input-29-f66e5066def1>\u001b[0m in \u001b[0;36m<module>\u001b[1;34m\u001b[0m\n\u001b[0;32m      1\u001b[0m \u001b[0mprint\u001b[0m\u001b[1;33m(\u001b[0m\u001b[0ms\u001b[0m\u001b[1;33m)\u001b[0m\u001b[1;33m\u001b[0m\u001b[1;33m\u001b[0m\u001b[0m\n\u001b[1;32m----> 2\u001b[1;33m \u001b[0ms\u001b[0m\u001b[1;33m.\u001b[0m\u001b[0mpop\u001b[0m\u001b[1;33m(\u001b[0m\u001b[1;33m)\u001b[0m\u001b[1;33m\u001b[0m\u001b[1;33m\u001b[0m\u001b[0m\n\u001b[0m\u001b[0;32m      3\u001b[0m \u001b[0mprint\u001b[0m\u001b[1;33m(\u001b[0m\u001b[0ms\u001b[0m\u001b[1;33m)\u001b[0m\u001b[1;33m\u001b[0m\u001b[1;33m\u001b[0m\u001b[0m\n",
      "\u001b[1;31mTypeError\u001b[0m: pop expected at least 1 arguments, got 0"
     ]
    }
   ],
   "source": [
    "print(s)\n",
    "s.pop()\n",
    "print(s)"
   ]
  },
  {
   "cell_type": "code",
   "execution_count": 30,
   "id": "c125f4e6",
   "metadata": {},
   "outputs": [
    {
     "name": "stdout",
     "output_type": "stream",
     "text": [
      "{'rollnumber': [12, 45, 56, 89, 78], 'name': 'raju', 'sal': 25000, 'phone': 98698574857, 'percentage': 86}\n",
      "{'rollnumber': [12, 45, 56, 89, 78], 'name': 'raju', 'phone': 98698574857, 'percentage': 86}\n"
     ]
    }
   ],
   "source": [
    "print(s)\n",
    "s.pop('sal')\n",
    "print(s)"
   ]
  },
  {
   "cell_type": "code",
   "execution_count": 31,
   "id": "8bc84a4c",
   "metadata": {},
   "outputs": [
    {
     "name": "stdout",
     "output_type": "stream",
     "text": [
      "{'rollnumber': [12, 45, 56, 89, 78], 'name': 'raju', 'phone': 98698574857, 'percentage': 86}\n",
      "{'rollnumber': [12, 45, 56, 89, 78], 'name': 'raju', 'phone': 98698574857}\n"
     ]
    }
   ],
   "source": [
    "print(s)\n",
    "s.popitem()\n",
    "print(s)"
   ]
  },
  {
   "cell_type": "code",
   "execution_count": 32,
   "id": "d280ab73",
   "metadata": {},
   "outputs": [
    {
     "name": "stdout",
     "output_type": "stream",
     "text": [
      "{'rollnumber': [12, 45, 56, 89, 78], 'name': 'raju', 'phone': 98698574857}\n",
      "{'rollnumber': [12, 45, 56, 89, 78], 'name': 'raju', 'phone': 98698574857}\n"
     ]
    }
   ],
   "source": [
    "print(s)\n",
    "s.update()\n",
    "print(s)"
   ]
  },
  {
   "cell_type": "code",
   "execution_count": 33,
   "id": "a2b05012",
   "metadata": {},
   "outputs": [
    {
     "name": "stdout",
     "output_type": "stream",
     "text": [
      "{'rollnumber': [12, 45, 56, 89, 78], 'name': 'raju', 'phone': 98698574857}\n",
      "{'rollnumber': [12, 45, 56, 89, 78], 'name': 'kiran', 'phone': 98698574857}\n"
     ]
    }
   ],
   "source": [
    "print(s)\n",
    "s.update({'name':'kiran'})\n",
    "print(s)"
   ]
  },
  {
   "cell_type": "markdown",
   "id": "e10920c4",
   "metadata": {},
   "source": [
    "```\n",
    "Practice Work:\n",
    "==============\n",
    "M4maths.com\n",
    "programmiz.com\n",
    "codeforwin\n",
    "geeksforgeeks\n",
    "beginnersbook.com\n",
    "fresh2refresh\n",
    "\n",
    "Coding Contest:\n",
    "===============\n",
    "Hackerrank\n",
    "hackerearth\n",
    "codechef\n",
    "leetcode\n",
    "```"
   ]
  }
 ],
 "metadata": {
  "kernelspec": {
   "display_name": "Python 3",
   "language": "python",
   "name": "python3"
  },
  "language_info": {
   "codemirror_mode": {
    "name": "ipython",
    "version": 3
   },
   "file_extension": ".py",
   "mimetype": "text/x-python",
   "name": "python",
   "nbconvert_exporter": "python",
   "pygments_lexer": "ipython3",
   "version": "3.7.5"
  }
 },
 "nbformat": 4,
 "nbformat_minor": 5
}
